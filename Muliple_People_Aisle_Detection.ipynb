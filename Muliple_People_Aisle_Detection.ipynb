{
  "nbformat": 4,
  "nbformat_minor": 0,
  "metadata": {
    "colab": {
      "name": "Muliple People Aisle Detection.ipynb",
      "provenance": [],
      "collapsed_sections": []
    },
    "kernelspec": {
      "name": "python3",
      "display_name": "Python 3"
    },
    "language_info": {
      "name": "python"
    },
    "accelerator": "TPU"
  },
  "cells": [
    {
      "cell_type": "markdown",
      "metadata": {
        "id": "ssQLGWKg_YjX"
      },
      "source": [
        "# CSV Outputs for all the test videos are present in the csv results folder"
      ]
    },
    {
      "cell_type": "markdown",
      "metadata": {
        "id": "a9u9d2Nja9LI"
      },
      "source": [
        "# *Command 1 :*\n",
        "\n",
        "Git clone the repo"
      ]
    },
    {
      "cell_type": "code",
      "metadata": {
        "id": "ixkKkG-vapPm",
        "colab": {
          "base_uri": "https://localhost:8080/"
        },
        "outputId": "c1a597ed-ae0e-4a8f-88c2-94391c799362"
      },
      "source": [
        "!git clone https://github.com/Hit26/Multiple-People-Aisle-Detection.git"
      ],
      "execution_count": 1,
      "outputs": [
        {
          "output_type": "stream",
          "name": "stdout",
          "text": [
            "Cloning into 'Multiple-People-Aisle-Detection'...\n",
            "remote: Enumerating objects: 78, done.\u001b[K\n",
            "remote: Counting objects: 100% (78/78), done.\u001b[K\n",
            "remote: Compressing objects: 100% (72/72), done.\u001b[K\n",
            "remote: Total 78 (delta 1), reused 0 (delta 0), pack-reused 0\u001b[K\n",
            "Unpacking objects: 100% (78/78), done.\n"
          ]
        }
      ]
    },
    {
      "cell_type": "markdown",
      "metadata": {
        "id": "kVAlgY_ZbHrK"
      },
      "source": [
        "#*Command 2 :*\n",
        "\n",
        "change directory to the unzipped folder"
      ]
    },
    {
      "cell_type": "code",
      "metadata": {
        "id": "5k6kVScNTdr7",
        "colab": {
          "base_uri": "https://localhost:8080/"
        },
        "outputId": "c798e9a6-b5dc-4ec6-9fd8-885ccafad0ca"
      },
      "source": [
        "%cd Multiple-People-Aisle-Detection/"
      ],
      "execution_count": 2,
      "outputs": [
        {
          "output_type": "stream",
          "name": "stdout",
          "text": [
            "/content/Multiple-People-Aisle-Detection\n"
          ]
        }
      ]
    },
    {
      "cell_type": "markdown",
      "metadata": {
        "id": "H0sl6e8FbPwV"
      },
      "source": [
        "#*Command 3 :*\n",
        "\n",
        "Install dependencies required for the projects"
      ]
    },
    {
      "cell_type": "code",
      "metadata": {
        "id": "Bn7ZBqsxThd3"
      },
      "source": [
        "!sudo apt install tesseract-ocr\n",
        "!pip install pytesseract"
      ],
      "execution_count": null,
      "outputs": []
    },
    {
      "cell_type": "markdown",
      "metadata": {
        "id": "iy82VOdvbY2h"
      },
      "source": [
        "#*Command 4 :*\n",
        "\n",
        "download yolov4 model weights to data folder"
      ]
    },
    {
      "cell_type": "code",
      "metadata": {
        "id": "sYdOAAZVTnSx"
      },
      "source": [
        "!wget https://github.com/AlexeyAB/darknet/releases/download/darknet_yolo_v3_optimal/yolov4.weights -P data/"
      ],
      "execution_count": null,
      "outputs": []
    },
    {
      "cell_type": "markdown",
      "metadata": {
        "id": "xmgN0oqZbbvR"
      },
      "source": [
        "#*Command 5 :*\n",
        "\n",
        "Convert darknet weights to tensorflow model"
      ]
    },
    {
      "cell_type": "code",
      "metadata": {
        "id": "bybYYhJtTwk0"
      },
      "source": [
        "!python save_model.py --model yolov4"
      ],
      "execution_count": null,
      "outputs": []
    },
    {
      "cell_type": "markdown",
      "metadata": {
        "id": "VYqfMxZ-bdS0"
      },
      "source": [
        "#*Command 6 :*\n",
        "\n",
        "Run DeepSort with YOLOv4 Object Detections as backbone (enable --info flag to see info about tracked objects) \n",
        "\n",
        "You can change the video file by replacing Part1.mp4 by any video file name. \n",
        "The csv file is stored as csv_file.csv in the project folder directly.\n",
        "\n",
        "To stop the the execution press \"Ctrl+m+i\""
      ]
    },
    {
      "cell_type": "markdown",
      "metadata": {
        "id": "SAuZDAR6hQ4S"
      },
      "source": [
        "To add more video files for testing you can upload the files by going in yolov4-deepsort/data/video on left files section and right click on video folder and select upload to upload any video files you want"
      ]
    },
    {
      "cell_type": "code",
      "metadata": {
        "id": "36jzcZxrTyXP"
      },
      "source": [
        "!python object_tracker.py --video ./data/video/Part1.mp4 --output ./outputs/tracker.avi --model yolov4 --dont_show --info"
      ],
      "execution_count": null,
      "outputs": []
    },
    {
      "cell_type": "markdown",
      "metadata": {
        "id": "yb5bEFTmbfhe"
      },
      "source": [
        "#*Command 7 :*\n",
        "\n",
        "define helper function to display videos\n",
        "\n"
      ]
    },
    {
      "cell_type": "code",
      "metadata": {
        "id": "uKixtHvOT_-v"
      },
      "source": [
        "# define helper function to display videos\n",
        "import io \n",
        "from IPython.display import HTML\n",
        "from base64 import b64encode\n",
        "def show_video(file_name, width=640):\n",
        "  # show resulting deepsort video\n",
        "  mp4 = open(file_name,'rb').read()\n",
        "  data_url = \"data:video/mp4;base64,\" + b64encode(mp4).decode()\n",
        "  return HTML(\"\"\"\n",
        "  <video width=\"{0}\" controls>\n",
        "        <source src=\"{1}\" type=\"video/mp4\">\n",
        "  </video>\n",
        "  \"\"\".format(width, data_url))"
      ],
      "execution_count": null,
      "outputs": []
    },
    {
      "cell_type": "markdown",
      "metadata": {
        "id": "Qc1fz66_bgjg"
      },
      "source": [
        "#*Command 8 :*\n",
        "\n",
        "convert resulting video from avi to mp4 file format\n",
        "\n",
        "Final Output csv is stored as csv_file.csv in yolov4-deepsort folder in file section on the left"
      ]
    },
    {
      "cell_type": "code",
      "metadata": {
        "id": "GaDY_MFDUCkl"
      },
      "source": [
        "# convert resulting video from avi to mp4 file format\n",
        "import os\n",
        "path_video = os.path.join(\"outputs\",\"tracker.avi\")\n",
        "%cd outputs/\n",
        "!ffmpeg -y -loglevel panic -i tracker.avi output.mp4\n",
        "%cd ..\n",
        "\n",
        "# output object tracking video\n",
        "path_output = os.path.join(\"outputs\",\"output.mp4\")\n",
        "show_video(path_output, width=960)"
      ],
      "execution_count": null,
      "outputs": []
    }
  ]
}